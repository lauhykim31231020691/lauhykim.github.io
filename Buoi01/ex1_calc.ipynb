{
 "cells": [
  {
   "cell_type": "code",
   "execution_count": 1,
   "id": "fd6209b9-aedd-4a87-8e23-3920143a7b8b",
   "metadata": {},
   "outputs": [
    {
     "name": "stdout",
     "output_type": "stream",
     "text": [
      "Calculator Basic\n"
     ]
    }
   ],
   "source": [
    "print(\"Calculator Basic\")"
   ]
  },
  {
   "cell_type": "code",
   "execution_count": 3,
   "id": "92e50210-452f-48fc-8477-7069c01c6543",
   "metadata": {},
   "outputs": [
    {
     "name": "stdin",
     "output_type": "stream",
     "text": [
      "Moi ban nhap so a:  0\n"
     ]
    }
   ],
   "source": [
    "a = int(input(\"Moi ban nhap so a: \"))"
   ]
  },
  {
   "cell_type": "code",
   "execution_count": 4,
   "id": "5c0c5a9a-a69c-4e77-a567-55ed61d47293",
   "metadata": {},
   "outputs": [
    {
     "name": "stdin",
     "output_type": "stream",
     "text": [
      "Moi ban nhap so b:  7\n"
     ]
    }
   ],
   "source": [
    "b = int(input(\"Moi ban nhap so b: \"))"
   ]
  },
  {
   "cell_type": "code",
   "execution_count": 5,
   "id": "6ee0d71f-cb6f-4de8-afa4-d926b1eb3379",
   "metadata": {},
   "outputs": [
    {
     "name": "stdout",
     "output_type": "stream",
     "text": [
      "c = 0 + 7 = 7\n"
     ]
    }
   ],
   "source": [
    "c = a + b\n",
    "print(\"c = %d + %d = %d\" % (a, b, c))"
   ]
  },
  {
   "cell_type": "code",
   "execution_count": null,
   "id": "f7c07185-f5fa-4de3-91dd-52de35c894a2",
   "metadata": {},
   "outputs": [],
   "source": []
  }
 ],
 "metadata": {
  "kernelspec": {
   "display_name": "Python 3 (ipykernel)",
   "language": "python",
   "name": "python3"
  },
  "language_info": {
   "codemirror_mode": {
    "name": "ipython",
    "version": 3
   },
   "file_extension": ".py",
   "mimetype": "text/x-python",
   "name": "python",
   "nbconvert_exporter": "python",
   "pygments_lexer": "ipython3",
   "version": "3.12.1"
  }
 },
 "nbformat": 4,
 "nbformat_minor": 5
}
