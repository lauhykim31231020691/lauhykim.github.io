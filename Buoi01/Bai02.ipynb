{
 "cells": [
  {
   "cell_type": "code",
   "execution_count": 3,
   "id": "192073f1-0e57-4c64-bdfb-0c976c5fbc9f",
   "metadata": {},
   "outputs": [
    {
     "name": "stdout",
     "output_type": "stream",
     "text": [
      "Overwriting SoSanh.in1\n"
     ]
    }
   ],
   "source": [
    "%%writefile SoSanh.in1\n",
    "5\n",
    "6"
   ]
  },
  {
   "cell_type": "code",
   "execution_count": 4,
   "id": "5b73de34-1c49-4a95-a7c0-c4a62f6b6809",
   "metadata": {},
   "outputs": [
    {
     "name": "stdout",
     "output_type": "stream",
     "text": [
      "Moi ban nhap so a: Moi ban nhap so b: Ket qua so sanh hai so thuc 5.00 va 6.00:\n",
      "5.00     <     6.00:     True\n",
      "5.00     <=     6.00:     True\n",
      "5.00     >     6.00:    False\n",
      "5.00     >=     6.00:    False\n",
      "5.00     ==     6.00:    False\n",
      "5.00     !=     6.00:     True\n"
     ]
    }
   ],
   "source": [
    "!python SoSanh.py < SoSanh.in1"
   ]
  },
  {
   "cell_type": "code",
   "execution_count": 5,
   "id": "2bf36c9e-2d6d-4092-820e-d2c60d7b741e",
   "metadata": {},
   "outputs": [
    {
     "name": "stdout",
     "output_type": "stream",
     "text": [
      "Writing Max3Num.in1\n"
     ]
    }
   ],
   "source": [
    "%%writefile Max3Num.in1\n",
    "2\n",
    "5\n",
    "4"
   ]
  },
  {
   "cell_type": "code",
   "execution_count": 8,
   "id": "9aa7c746-6846-4991-815e-0ee5f192481b",
   "metadata": {},
   "outputs": [
    {
     "name": "stdout",
     "output_type": "stream",
     "text": [
      "92751\n",
      "7314\n",
      "60066\n",
      "Max(92751, 7314, 60066) = 92751\n",
      "Max3Num/input/input01.txt\n",
      "Max3Num/output/output01.txt\n",
      "--------------------------------------------------\n",
      "67741\n",
      "93232\n",
      "1798\n",
      "Max(67741, 93232, 1798) = 93232\n",
      "Max3Num/input/input02.txt\n",
      "Max3Num/output/output02.txt\n",
      "--------------------------------------------------\n",
      "53310\n",
      "24376\n",
      "10505\n",
      "Max(53310, 24376, 10505) = 53310\n",
      "Max3Num/input/input03.txt\n",
      "Max3Num/output/output03.txt\n",
      "--------------------------------------------------\n",
      "18333\n",
      "76212\n",
      "53672\n",
      "Max(18333, 76212, 53672) = 76212\n",
      "Max3Num/input/input04.txt\n",
      "Max3Num/output/output04.txt\n",
      "--------------------------------------------------\n",
      "79303\n",
      "95090\n",
      "49902\n",
      "Max(79303, 95090, 49902) = 95090\n",
      "Max3Num/input/input05.txt\n",
      "Max3Num/output/output05.txt\n",
      "--------------------------------------------------\n",
      "23106\n",
      "27170\n",
      "25789\n",
      "Max(23106, 27170, 25789) = 27170\n",
      "Max3Num/input/input06.txt\n",
      "Max3Num/output/output06.txt\n",
      "--------------------------------------------------\n",
      "91178\n",
      "86713\n",
      "52311\n",
      "Max(91178, 86713, 52311) = 91178\n",
      "Max3Num/input/input07.txt\n",
      "Max3Num/output/output07.txt\n",
      "--------------------------------------------------\n",
      "29574\n",
      "39100\n",
      "66286\n",
      "Max(29574, 39100, 66286) = 66286\n",
      "Max3Num/input/input08.txt\n",
      "Max3Num/output/output08.txt\n",
      "--------------------------------------------------\n",
      "68205\n",
      "28186\n",
      "58353\n",
      "Max(68205, 28186, 58353) = 68205\n",
      "Max3Num/input/input09.txt\n",
      "Max3Num/output/output09.txt\n",
      "--------------------------------------------------\n",
      "56127\n",
      "66953\n",
      "63134\n",
      "Max(56127, 66953, 63134) = 66953\n",
      "Max3Num/input/input10.txt\n",
      "Max3Num/output/output10.txt\n",
      "--------------------------------------------------\n"
     ]
    }
   ],
   "source": [
    "import random, os\n",
    "input_dir = 'Max3Num/input'\n",
    "output_dir = 'Max3Num/output'\n",
    "!rm -r $input_dir\n",
    "!rm -r $output_dir\n",
    "os.makedirs(input_dir, exist_ok = True)\n",
    "os.makedirs(output_dir, exist_ok = True)\n",
    "for ti in range(1, 11):\n",
    "    a = random.randint(1, 100000)\n",
    "    b = random.randint(1, 100000)\n",
    "    c = random.randint(1, 100000)\n",
    "    with open('Max3Num.txt', 'w') as file:\n",
    "        file.write(str(a) + '\\n')\n",
    "        file.write(str(b) + '\\n')\n",
    "        file.write(str(c) + '\\n')\n",
    "    !python Max3Num.py <Max3Num.txt >Max3Num.out\n",
    "    !cat Max3Num.txt\n",
    "    !cat Max3Num.out\n",
    "    input_path = f'{input_dir}/input{ti:02d}.txt'\n",
    "    output_path = f'{output_dir}/output{ti:02d}.txt'\n",
    "    print(input_path)\n",
    "    print(output_path)\n",
    "    !cp Max3Num.txt $input_path\n",
    "    !cp Max3Num.out $output_path\n",
    "    print(\"-\"*50)\n",
    "    pass"
   ]
  },
  {
   "cell_type": "code",
   "execution_count": 9,
   "id": "65f036dc-da71-4a55-a443-af3bf8b0011c",
   "metadata": {},
   "outputs": [],
   "source": [
    "import shutil"
   ]
  },
  {
   "cell_type": "code",
   "execution_count": 10,
   "id": "6379247c-8fcf-4f63-9450-b74c2b48de61",
   "metadata": {},
   "outputs": [
    {
     "name": "stdout",
     "output_type": "stream",
     "text": [
      "Max(2, 5, 4) = 5\n"
     ]
    }
   ],
   "source": [
    "!python Max3Num.py <Max3Num.in1"
   ]
  },
  {
   "cell_type": "code",
   "execution_count": null,
   "id": "26d28ef1-04d7-49d8-959b-2cb185106b62",
   "metadata": {},
   "outputs": [],
   "source": []
  }
 ],
 "metadata": {
  "kernelspec": {
   "display_name": "Python 3 (ipykernel)",
   "language": "python",
   "name": "python3"
  },
  "language_info": {
   "codemirror_mode": {
    "name": "ipython",
    "version": 3
   },
   "file_extension": ".py",
   "mimetype": "text/x-python",
   "name": "python",
   "nbconvert_exporter": "python",
   "pygments_lexer": "ipython3",
   "version": "3.12.1"
  }
 },
 "nbformat": 4,
 "nbformat_minor": 5
}
