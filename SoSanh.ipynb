{
 "cells": [
  {
   "cell_type": "code",
   "execution_count": 1,
   "id": "3521c4b2-4c5a-4158-8e9a-181be3ca77f5",
   "metadata": {},
   "outputs": [
    {
     "name": "stdin",
     "output_type": "stream",
     "text": [
      "Moi ban nhap so a:  7\n",
      "Moi ban nhap so b:  13\n"
     ]
    },
    {
     "name": "stdout",
     "output_type": "stream",
     "text": [
      "Ket qua so sanh hai so thuc 7.00 va 13.00:\n",
      "7.00     <    13.00:     True\n",
      "7.00     <=    13.00:     True\n",
      "7.00     >    13.00:    False\n",
      "7.00     >=    13.00:    False\n",
      "7.00     ==    13.00:    False\n",
      "7.00     !=    13.00:     True\n"
     ]
    }
   ],
   "source": [
    "# Nhập dữ liệu \n",
    "a = float(input(\"Moi ban nhap so a: \")) \n",
    "b = float(input(\"Moi ban nhap so b: \"))\n",
    "# Xử lý \n",
    "laNhoHon = (a < b) \n",
    "laNhoHonBang = (a <= b)\n",
    "laLonHon = (a > b) \n",
    "laLonHonBang = (a >= b)\n",
    "laBang = (a == b)\n",
    "laKhacNhau = (a != b)\n",
    "# Xuất dữ liệu \n",
    "print(\"Ket qua so sanh hai so thuc %.2f va %.2f:\"%(a, b))\n",
    "print(\"%-8.2f < %8.2f: %8s\"%(a, b, laNhoHon))\n",
    "print(\"%-8.2f <= %8.2f: %8s\"%(a, b, laNhoHonBang))\n",
    "print(\"%-8.2f > %8.2f: %8s\"%(a, b, laLonHon))\n",
    "print(\"%-8.2f >= %8.2f: %8s\"%(a, b, laLonHonBang))\n",
    "print(\"%-8.2f == %8.2f: %8s\"%(a, b, laBang))\n",
    "print(\"%-8.2f != %8.2f: %8s\"%(a, b, laKhacNhau))"
   ]
  },
  {
   "cell_type": "code",
   "execution_count": null,
   "id": "87421802-87d5-48a3-aa68-767354658d19",
   "metadata": {},
   "outputs": [],
   "source": []
  }
 ],
 "metadata": {
  "kernelspec": {
   "display_name": "Python 3 (ipykernel)",
   "language": "python",
   "name": "python3"
  },
  "language_info": {
   "codemirror_mode": {
    "name": "ipython",
    "version": 3
   },
   "file_extension": ".py",
   "mimetype": "text/x-python",
   "name": "python",
   "nbconvert_exporter": "python",
   "pygments_lexer": "ipython3",
   "version": "3.12.1"
  }
 },
 "nbformat": 4,
 "nbformat_minor": 5
}
