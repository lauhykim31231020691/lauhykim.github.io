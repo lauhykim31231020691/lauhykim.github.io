{
 "cells": [
  {
   "cell_type": "markdown",
   "id": "1ef87fe6-cd2a-422d-bc77-5b4e169e68e9",
   "metadata": {},
   "source": [
    "# ex2_scientific1"
   ]
  },
  {
   "cell_type": "markdown",
   "id": "242cdf35-5cd1-4eee-a8f5-ee2e10b3ef0f",
   "metadata": {},
   "source": [
    "## Nội dung bài"
   ]
  },
  {
   "cell_type": "markdown",
   "id": "11480cc5-0ac3-4213-bf90-91a4cde094c5",
   "metadata": {},
   "source": [
    "Hiển thị ngẫu nhiên $N=50$ hình tròn:\n",
    "+ Tâm $c_i = (x_i,y_i)$ ngẫu nhiên với $x_i, y_i \\in \\left[0, 1 \\right]$\n",
    "+ Màu sắc $color_i$ ngẫu nhiên với $color_i \\in \\left[0, 1 \\right]$\n",
    "+ Diện tích $area_i = \\pi * r_i^2$ với sinh ngẫu nhiên $r_i \\in \\left[0, 1 \\right]$"
   ]
  },
  {
   "cell_type": "markdown",
   "id": "6459cd83-e2cc-49fc-8ea3-ea7f4ad47e71",
   "metadata": {},
   "source": [
    "## Bài làm"
   ]
  },
  {
   "cell_type": "markdown",
   "id": "9ccad542-8aeb-4f46-b296-7d77beb876a4",
   "metadata": {},
   "source": [
    "### Import thư viện"
   ]
  },
  {
   "cell_type": "code",
   "execution_count": 2,
   "id": "3fcc98d5-3689-4ee8-a81b-2ade65a8e984",
   "metadata": {},
   "outputs": [],
   "source": [
    "import numpy as np\n",
    "import matplotlib.pyplot as plt\n",
    "from IPython import display # hiển thị rich output"
   ]
  },
  {
   "cell_type": "markdown",
   "id": "760627a3-5bb7-4bd9-8923-996a822d65c5",
   "metadata": {},
   "source": [
    "### Sinh ngẫu nhiên hình tròn"
   ]
  },
  {
   "cell_type": "code",
   "execution_count": null,
   "id": "31f21145-7d77-4c27-885c-9dbfaa9ef64b",
   "metadata": {},
   "outputs": [],
   "source": [
    "%time\n",
    "# generate randomly the center (x,y ) of circle, color, area\n",
    "N = 50x = np.random.rand(N)y = np.random.rand(N)colors = np.random.rand(N)area = np.pi * (15 * np.random.rand(N)) ** 2 # 0 to 15 point radii"
   ]
  }
 ],
 "metadata": {
  "kernelspec": {
   "display_name": "Python 3 (ipykernel)",
   "language": "python",
   "name": "python3"
  },
  "language_info": {
   "codemirror_mode": {
    "name": "ipython",
    "version": 3
   },
   "file_extension": ".py",
   "mimetype": "text/x-python",
   "name": "python",
   "nbconvert_exporter": "python",
   "pygments_lexer": "ipython3",
   "version": "3.12.1"
  }
 },
 "nbformat": 4,
 "nbformat_minor": 5
}
