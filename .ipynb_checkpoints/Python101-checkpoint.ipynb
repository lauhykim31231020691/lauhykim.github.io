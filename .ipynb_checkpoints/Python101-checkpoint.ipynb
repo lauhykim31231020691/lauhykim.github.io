{
 "cells": [
  {
   "cell_type": "markdown",
   "id": "3838a336-41b3-43f8-95c3-619e8f0f8f7f",
   "metadata": {},
   "source": [
    "# Python 101"
   ]
  },
  {
   "cell_type": "markdown",
   "id": "93650772-8f6b-4461-8d1d-f5f12c1741d5",
   "metadata": {},
   "source": [
    "## Ngôn ngữ Python"
   ]
  },
  {
   "cell_type": "code",
   "execution_count": 1,
   "id": "2334f668-933d-4ac3-8138-8e00ef0004b0",
   "metadata": {},
   "outputs": [
    {
     "name": "stdout",
     "output_type": "stream",
     "text": [
      "Hello, World!\n"
     ]
    }
   ],
   "source": [
    "print(\"Hello, World!\")"
   ]
  },
  {
   "cell_type": "code",
   "execution_count": 2,
   "id": "1231d233-7d19-4f03-af66-083a340700f9",
   "metadata": {},
   "outputs": [
    {
     "name": "stdout",
     "output_type": "stream",
     "text": [
      "194.87\n"
     ]
    }
   ],
   "source": [
    "pv = 100\n",
    "r = 0.1\n",
    "n = 7\n",
    "fv = pv * ((1 + r)**n)\n",
    "print(round(fv, 2))"
   ]
  },
  {
   "cell_type": "code",
   "execution_count": 3,
   "id": "9ebe1ffc-09fe-437a-ade2-a8f70b16ac06",
   "metadata": {},
   "outputs": [
    {
     "name": "stdout",
     "output_type": "stream",
     "text": [
      "194.87\n"
     ]
    }
   ],
   "source": [
    "amount = 100\n",
    "interest = 10\n",
    "years = 7\n",
    "\n",
    "future_value = amount * ((1 + 0.01 * interest)**years)\n",
    "print(round(future_value, 2))"
   ]
  },
  {
   "cell_type": "code",
   "execution_count": 4,
   "id": "819d0812-cd8a-4e11-9baa-19fd21166588",
   "metadata": {},
   "outputs": [],
   "source": [
    "from IPython.display import display"
   ]
  },
  {
   "cell_type": "code",
   "execution_count": 5,
   "id": "9e6d09d4-3bf3-44a0-89f6-a067dfb38eab",
   "metadata": {},
   "outputs": [
    {
     "name": "stdout",
     "output_type": "stream",
     "text": [
      "Hello, World\n"
     ]
    },
    {
     "data": {
      "text/plain": [
       "'Hello, World!'"
      ]
     },
     "metadata": {},
     "output_type": "display_data"
    }
   ],
   "source": [
    "print(\"Hello, World\")\n",
    "display(\"Hello, World!\")"
   ]
  },
  {
   "cell_type": "code",
   "execution_count": 6,
   "id": "a0aae95f-a729-4e25-a663-8deb95ba0151",
   "metadata": {},
   "outputs": [
    {
     "name": "stdout",
     "output_type": "stream",
     "text": [
      "Comment\n"
     ]
    }
   ],
   "source": [
    "# Ghi chu\n",
    "'''\n",
    "Ghi chu\n",
    "'''\n",
    "print(\"Comment\")"
   ]
  },
  {
   "cell_type": "code",
   "execution_count": 8,
   "id": "68cd5c6e-05e3-40fd-b68a-2fee6d2c7ffa",
   "metadata": {},
   "outputs": [
    {
     "name": "stdout",
     "output_type": "stream",
     "text": [
      "Pass\n"
     ]
    }
   ],
   "source": [
    "score = 80\n",
    "if score >= 60:\n",
    "    print(\"Pass\")"
   ]
  },
  {
   "cell_type": "code",
   "execution_count": 9,
   "id": "7a2c858a-6677-43e6-a6ef-bbc4bac7cd58",
   "metadata": {},
   "outputs": [
    {
     "name": "stdout",
     "output_type": "stream",
     "text": [
      "2 2.5 Hello\n",
      "x = (2, <class 'int'>), price=(2.5, <class 'float'>), word=('Hello', <class 'str'>)\n"
     ]
    }
   ],
   "source": [
    "# Python variables\n",
    "x = 2\n",
    "price = 2.5\n",
    "word = 'Hello'\n",
    "\n",
    "word = 'Hello'\n",
    "word = \"Hello\"\n",
    "word = '''Hello'''\n",
    "print(x, price, word)\n",
    "print(f'x = {x, type(x)}, price={price, type(price)}, word={word, type(word)}')"
   ]
  },
  {
   "cell_type": "code",
   "execution_count": 10,
   "id": "434fce89-9ddf-4401-99b9-04496806d8ea",
   "metadata": {},
   "outputs": [
    {
     "name": "stdout",
     "output_type": "stream",
     "text": [
      "2 3\n"
     ]
    }
   ],
   "source": [
    "x = 2\n",
    "y = x + 1\n",
    "print(x, y)"
   ]
  },
  {
   "cell_type": "code",
   "execution_count": 11,
   "id": "c4a17e88-3c37-4dfc-8cbc-6b128da87716",
   "metadata": {},
   "outputs": [
    {
     "name": "stdout",
     "output_type": "stream",
     "text": [
      "Python version:  3.12.1\n"
     ]
    }
   ],
   "source": [
    "# comment\n",
    "from platform import python_version\n",
    "print(\"Python version: \", python_version())"
   ]
  },
  {
   "cell_type": "code",
   "execution_count": 12,
   "id": "9fe97f54-59c5-4811-b761-5fd9afff5f7d",
   "metadata": {},
   "outputs": [
    {
     "name": "stdout",
     "output_type": "stream",
     "text": [
      "Help on function python_version in module platform:\n",
      "\n",
      "python_version()\n",
      "    Returns the Python version as string 'major.minor.patchlevel'\n",
      "\n",
      "    Note that unlike the Python sys.version, the returned value\n",
      "    will always include the patchlevel (it defaults to 0).\n",
      "\n"
     ]
    }
   ],
   "source": [
    "help(python_version)"
   ]
  },
  {
   "cell_type": "code",
   "execution_count": 15,
   "id": "634e2572-3601-4192-8f8d-a69e170571e7",
   "metadata": {},
   "outputs": [
    {
     "name": "stdout",
     "output_type": "stream",
     "text": [
      "Hello, World <class 'str'>\n",
      "2 <class 'int'>\n",
      "2.5 <class 'float'>\n",
      "7j <class 'complex'>\n"
     ]
    }
   ],
   "source": [
    "x = 'Hello, World'\n",
    "print(x, type(x))\n",
    "\n",
    "x = 2\n",
    "print(x, type(x))\n",
    "\n",
    "x = 2.5\n",
    "print(x, type(x))\n",
    "\n",
    "x = 7j\n",
    "print(x, type(x))"
   ]
  },
  {
   "cell_type": "code",
   "execution_count": 16,
   "id": "c2df2511-bca1-4c76-986c-b28a9c592ce7",
   "metadata": {},
   "outputs": [
    {
     "name": "stdout",
     "output_type": "stream",
     "text": [
      "['apple', 'banana', 'cherry', 'hello'] <class 'list'> ['banana', 'cherry']\n",
      "('apple', 'banana', 'cherry', 'hello') <class 'tuple'> ('banana', 'cherry')\n",
      "{'name': 'Tome', 'age': 20} <class 'dict'> Tome 20\n",
      "{'hello', 'cherry', 'apple', 'banana'} <class 'set'>\n",
      "frozenset({'cherry', 'apple', 'banana'}) <class 'frozenset'>\n"
     ]
    }
   ],
   "source": [
    "x = ['apple', 'banana', 'cherry']\n",
    "x.append('hello')\n",
    "print(x, type(x), x[1:3])\n",
    "\n",
    "x = ('apple', 'banana', 'cherry') # immutable\n",
    "# x.append('hello')\n",
    "x = ('apple', 'banana', 'cherry', 'hello')\n",
    "print(x, type(x), x[1:3])\n",
    "\n",
    "x = {'name': 'Tome', 'age': 20}   # dictionary\n",
    "print(x, type(x), x['name'], x['age'])\n",
    "\n",
    "x = {'apple', 'banana', 'cherry'} # set\n",
    "x.add('hello')\n",
    "print(x, type(x))\n",
    "\n",
    "x = frozenset({'apple', 'banana', 'cherry'}) # frozenset\n",
    "print(x, type(x))"
   ]
  },
  {
   "cell_type": "code",
   "execution_count": 17,
   "id": "c6bb6431-d8d6-43cc-ae58-20d9ce39d3d8",
   "metadata": {},
   "outputs": [
    {
     "name": "stdout",
     "output_type": "stream",
     "text": [
      "True <class 'bool'>\n",
      "b'Hello' <class 'bytes'>\n",
      "bytearray(b'\\x00\\x00\\x00\\x00\\x00') <class 'bytearray'>\n",
      "<memory at 0x7a77bc467e80> <class 'memoryview'> 0x7a77bc467e80\n",
      "None <class 'NoneType'>\n"
     ]
    }
   ],
   "source": [
    "x = True\n",
    "print(x, type(x))\n",
    "\n",
    "x = b'Hello'  # bytes\n",
    "print(x, type(x))\n",
    "\n",
    "x = bytearray(5)  # bytearray\n",
    "print(x, type(x))\n",
    "\n",
    "x = memoryview(bytes(5))  # memoryview\n",
    "print(x, type(x), hex(id(x)))\n",
    "\n",
    "x = None # NoneType\n",
    "print(x, type(x))"
   ]
  },
  {
   "cell_type": "code",
   "execution_count": 18,
   "id": "ff05b0a0-025e-4dc4-a246-fd30e2e32232",
   "metadata": {},
   "outputs": [
    {
     "name": "stdout",
     "output_type": "stream",
     "text": [
      "3 <class 'str'>\n",
      "4 <class 'int'>\n",
      "3.0 <class 'float'>\n"
     ]
    }
   ],
   "source": [
    "# casting\n",
    "x = str(3)\n",
    "y = int(4.3)\n",
    "z = float(3)\n",
    "\n",
    "print(x, type(x))\n",
    "print(y, type(y))\n",
    "print(z, type(z))"
   ]
  },
  {
   "cell_type": "code",
   "execution_count": 19,
   "id": "1aa27e7f-3c87-44ac-9bf2-2615a27b5ebb",
   "metadata": {},
   "outputs": [
    {
     "name": "stdout",
     "output_type": "stream",
     "text": [
      "2 <class 'int'>\n",
      "3.4 <class 'float'>\n",
      "(3.5+7j) <class 'complex'>\n"
     ]
    }
   ],
   "source": [
    "# numbers\n",
    "x = 2\n",
    "print(x, type(x))\n",
    "\n",
    "y = 3.4\n",
    "print(y, type(y))\n",
    "\n",
    "z = 7j + 3.5\n",
    "print(z, type(z))"
   ]
  },
  {
   "cell_type": "code",
   "execution_count": 20,
   "id": "77aba444-5202-460a-b25e-e243c6f89aa8",
   "metadata": {},
   "outputs": [
    {
     "name": "stdout",
     "output_type": "stream",
     "text": [
      "9\n",
      "5\n",
      "14\n",
      "3.5\n",
      "3\n",
      "1\n",
      "49\n"
     ]
    }
   ],
   "source": [
    "# Operator\n",
    "print(7+2)\n",
    "print(7-2)\n",
    "print(7*2)\n",
    "print(7 / 2)\n",
    "print(7 // 2)\n",
    "print(7 % 2)\n",
    "print(7**2)"
   ]
  },
  {
   "cell_type": "code",
   "execution_count": 21,
   "id": "f7750ebc-f8d7-4c41-9c37-e6b0847d9041",
   "metadata": {},
   "outputs": [
    {
     "name": "stdout",
     "output_type": "stream",
     "text": [
      "True\n",
      "False\n",
      "False\n",
      "True\n"
     ]
    }
   ],
   "source": [
    "# Comparision\n",
    "print(3 > 2)\n",
    "print(3 == 2)\n",
    "print(3 < 2)\n",
    "print(3 != 2)"
   ]
  },
  {
   "cell_type": "code",
   "execution_count": 22,
   "id": "7207cd36-aead-434b-afe0-366db1782cb6",
   "metadata": {},
   "outputs": [
    {
     "name": "stdout",
     "output_type": "stream",
     "text": [
      "Your BMI is  20.76\n"
     ]
    }
   ],
   "source": [
    "# bmi\n",
    "# input\n",
    "height_cm = 170\n",
    "weight_kg = 60\n",
    "\n",
    "# process\n",
    "height_m = height_cm / 100\n",
    "bmi = (weight_kg / (height_m ** 2))\n",
    "print('Your BMI is ', round(bmi, 2))"
   ]
  },
  {
   "cell_type": "code",
   "execution_count": 23,
   "id": "787c52f9-5d7d-49b6-badc-ac745ecea7d5",
   "metadata": {},
   "outputs": [
    {
     "name": "stdout",
     "output_type": "stream",
     "text": [
      "fv =  194.87\n"
     ]
    }
   ],
   "source": [
    "# 100$ sau 7 nam\n",
    "fv = 100 * (1 + 0.1) ** 7\n",
    "print('fv = ', round(fv, 2))"
   ]
  },
  {
   "cell_type": "code",
   "execution_count": 24,
   "id": "e88f36ca-37bb-42ad-bef8-3a568883274a",
   "metadata": {},
   "outputs": [
    {
     "name": "stdout",
     "output_type": "stream",
     "text": [
      "fv =  194.87\n"
     ]
    }
   ],
   "source": [
    "# input\n",
    "pv = 100\n",
    "r  = 0.1\n",
    "n  = 7\n",
    "\n",
    "# process\n",
    "fv  = pv * ((1 + r)**n)\n",
    "print('fv = ', round(fv, 2))"
   ]
  },
  {
   "cell_type": "code",
   "execution_count": 25,
   "id": "9b67ac79-060d-4d00-8c25-bc9e68039250",
   "metadata": {},
   "outputs": [
    {
     "name": "stdout",
     "output_type": "stream",
     "text": [
      "future_value =  194.87\n"
     ]
    }
   ],
   "source": [
    "# input\n",
    "amount = 100\n",
    "interest = 10 # 10%\n",
    "years = 7\n",
    "\n",
    "# process\n",
    "future_value = amount * ( (1 + interest / 100.0) ** years)\n",
    "print('future_value = ', round(future_value, 2))"
   ]
  },
  {
   "cell_type": "markdown",
   "id": "3ce9f000-44f5-43e1-a5a0-37685797455c",
   "metadata": {},
   "source": [
    "# Cấu trúc dữ liệu"
   ]
  },
  {
   "cell_type": "code",
   "execution_count": 26,
   "id": "8a943ff7-3345-4d7a-bd71-2c230613e5c8",
   "metadata": {},
   "outputs": [
    {
     "name": "stdout",
     "output_type": "stream",
     "text": [
      "['apple', 'banana', 'cherry'] <class 'list'>\n",
      "('apple', 'banana', 'cherry') <class 'tuple'>\n",
      "{'name': 'Tome', 'age': 20} <class 'dict'>\n",
      "{'cherry', 'apple', 'banana'} <class 'set'>\n"
     ]
    }
   ],
   "source": [
    "x = ['apple', 'banana', 'cherry'] # list\n",
    "print(x, type(x))\n",
    "x = ('apple', 'banana', 'cherry') # tuple\n",
    "print(x, type(x))\n",
    "x = {'name': 'Tome', 'age': 20}   # dictionary\n",
    "print(x, type(x))\n",
    "x = {'apple', 'banana', 'cherry'} # set\n",
    "print(x, type(x))"
   ]
  },
  {
   "cell_type": "code",
   "execution_count": 27,
   "id": "024bb111-f83b-4e7d-b3eb-230a8bd52b9f",
   "metadata": {},
   "outputs": [
    {
     "name": "stdout",
     "output_type": "stream",
     "text": [
      "4\n",
      "60\n",
      "70\n",
      "90\n"
     ]
    }
   ],
   "source": [
    "# List\n",
    "x = [60, 70, 80, 90]\n",
    "print(len(x))\n",
    "print(x[0])\n",
    "print(x[1])\n",
    "print(x[-1])"
   ]
  },
  {
   "cell_type": "code",
   "execution_count": 28,
   "id": "94dea635-9726-48c2-b15f-8286eb13e63e",
   "metadata": {},
   "outputs": [
    {
     "name": "stdout",
     "output_type": "stream",
     "text": [
      "5\n",
      "10\n",
      "20\n",
      "50\n"
     ]
    }
   ],
   "source": [
    "# tuple\n",
    "x = (10, 20, 30, 40, 50)\n",
    "print(len(x))\n",
    "print(x[0])\n",
    "print(x[1])\n",
    "print(x[-1])\n",
    "# x[0] = 50 # error"
   ]
  },
  {
   "cell_type": "code",
   "execution_count": 29,
   "id": "a3f384d9-528f-450c-9e18-79dbdd324421",
   "metadata": {},
   "outputs": [
    {
     "name": "stdout",
     "output_type": "stream",
     "text": [
      "True\n",
      "False\n",
      "True\n",
      "3\n",
      "3\n",
      "2\n"
     ]
    }
   ],
   "source": [
    "# set\n",
    "animals = {'cat', 'dog'}\n",
    "print('cat' in animals)\n",
    "print('fish' in animals)\n",
    "animals.add('fish')\n",
    "print('fish' in animals)\n",
    "print(len(animals))\n",
    "animals.add('cat')\n",
    "print(len(animals))\n",
    "animals.remove('cat')\n",
    "print(len(animals))"
   ]
  },
  {
   "cell_type": "code",
   "execution_count": 30,
   "id": "ed5e8020-cb64-4dc2-a6b7-6254be9e81f1",
   "metadata": {},
   "outputs": [
    {
     "name": "stdout",
     "output_type": "stream",
     "text": [
      "English\n"
     ]
    }
   ],
   "source": [
    "# dictionary\n",
    "k = {'EN': 'English', 'FR': 'French'}\n",
    "print(k['EN'])"
   ]
  },
  {
   "cell_type": "code",
   "execution_count": 31,
   "id": "c4d78d06-a890-4ac8-a426-65f0859ede88",
   "metadata": {},
   "outputs": [],
   "source": [
    "# data types\n",
    "fruits = ['apple', 'banana', 'cherry']  # list []\n",
    "colors = ('red', 'green', 'blue')       # tuple ()\n",
    "animals = {'cat', 'dog'}                # set {}\n",
    "person = {'name': 'Tom', 'age': 20}     # dict{k:v}"
   ]
  },
  {
   "cell_type": "code",
   "execution_count": 32,
   "id": "7cd979de-d877-4432-a165-ea7f903abb1f",
   "metadata": {},
   "outputs": [
    {
     "name": "stdout",
     "output_type": "stream",
     "text": [
      "Total expenses =  293.5\n"
     ]
    }
   ],
   "source": [
    "# lists\n",
    "expenses = [72.5, 80.75, 50.0, 90.25]\n",
    "total_expenses = sum(expenses)\n",
    "print('Total expenses = ', total_expenses)"
   ]
  },
  {
   "cell_type": "code",
   "execution_count": 1,
   "id": "214e236d-131f-4f19-ac9e-a592a4b0b4d2",
   "metadata": {},
   "outputs": [
    {
     "name": "stdout",
     "output_type": "stream",
     "text": [
      "Account Name:  Cash  - Account Number:  1001\n",
      "Account Name:  Accounts Receivable  - Account Number:  1002\n",
      "Account Name:  Inventory  - Account Number:  1003\n"
     ]
    }
   ],
   "source": [
    "# tuples\n",
    "accounts = (('Cash', 1001), ('Accounts Receivable', 1002), ('Inventory', 1003))\n",
    "for account in accounts:\n",
    "  print('Account Name: ', account[0], ' - Account Number: ', account[1])"
   ]
  },
  {
   "cell_type": "code",
   "execution_count": 2,
   "id": "8ae701c6-d96a-47a6-b1fb-dd51d5fd27c0",
   "metadata": {},
   "outputs": [
    {
     "name": "stdout",
     "output_type": "stream",
     "text": [
      "{1001, 1002, 1003}\n",
      "Account number 1004 is not in use\n"
     ]
    }
   ],
   "source": [
    "# set\n",
    "account_numbers = set([acc[1] for acc in accounts]) # set comprehensive\n",
    "print(account_numbers)\n",
    "new_acc_number = 1004\n",
    "if new_acc_number not in account_numbers:\n",
    "  print(f'Account number {new_acc_number} is not in use')"
   ]
  },
  {
   "cell_type": "code",
   "execution_count": 3,
   "id": "437bbfea-9a71-4d65-a007-dfd16970a4e5",
   "metadata": {},
   "outputs": [
    {
     "name": "stdout",
     "output_type": "stream",
     "text": [
      "--------------------------------------------------\n",
      "Account Number:  1001\n",
      "Account Name:  Cash\n",
      "Account Balance:  500.0\n",
      "Account Type:  Asset\n",
      "--------------------------------------------------\n",
      "Account Number:  1002\n",
      "Account Name:  Account Receivable\n",
      "Account Balance:  1000.0\n",
      "Account Type:  Asset\n",
      "--------------------------------------------------\n",
      "Account Number:  1003\n",
      "Account Name:  Account Payable\n",
      "Account Balance:  750.0\n",
      "Account Type:  Liability\n"
     ]
    }
   ],
   "source": [
    "# dictionary\n",
    "accounts = {\n",
    "    \"1001\": {\"name\": \"Cash\", \"balance\": 500.0, \"type\": \"Asset\"},\n",
    "    \"1002\": {\"name\": \"Account Receivable\", \"balance\": 1000.0, \"type\": \"Asset\"},\n",
    "    \"1003\": {\"name\": \"Account Payable\", \"balance\": 750.0, \"type\": \"Liability\"},\n",
    "}\n",
    "\n",
    "for acc_num, acc_info in accounts.items():\n",
    "  print('-'*50)\n",
    "  print('Account Number: ', acc_num)\n",
    "\n",
    "  print('Account Name: ', acc_info['name'])\n",
    "  print('Account Balance: ', acc_info['balance'])\n",
    "  print('Account Type: ', acc_info['type'])"
   ]
  },
  {
   "cell_type": "markdown",
   "id": "abdd7d91-b987-4fd8-829b-487cbf6b3221",
   "metadata": {},
   "source": [
    "# Control Logic & Loops"
   ]
  },
  {
   "cell_type": "code",
   "execution_count": 4,
   "id": "26267508-ebd4-48d1-abdf-5bef9f62ce44",
   "metadata": {},
   "outputs": [
    {
     "name": "stdout",
     "output_type": "stream",
     "text": [
      "Pass\n"
     ]
    }
   ],
   "source": [
    "# if\n",
    "score = 80\n",
    "if score >= 60:\n",
    "  print('Pass')"
   ]
  },
  {
   "cell_type": "code",
   "execution_count": 5,
   "id": "4517c7ee-0392-4c4c-b2ea-f2a3b5401716",
   "metadata": {},
   "outputs": [
    {
     "name": "stdout",
     "output_type": "stream",
     "text": [
      "Pass\n"
     ]
    }
   ],
   "source": [
    "# if\n",
    "score = 80\n",
    "if score >= 60:\n",
    "  print('Pass')\n",
    "else: # score < 60\n",
    "  print('Fail')"
   ]
  },
  {
   "cell_type": "code",
   "execution_count": 6,
   "id": "938d0de9-3ae3-4413-bd34-50109fbe5c84",
   "metadata": {},
   "outputs": [
    {
     "name": "stdout",
     "output_type": "stream",
     "text": [
      "Pass\n"
     ]
    }
   ],
   "source": [
    "# if\n",
    "score = 80\n",
    "if score >= 90:\n",
    "  print('A')\n",
    "elif score >= 60:  # score < 90 and score >=60\n",
    "  print('Pass')\n",
    "else: # score < 60\n",
    "  print('Fail')"
   ]
  },
  {
   "cell_type": "code",
   "execution_count": 7,
   "id": "f5a62705-9761-4ba6-91a0-a7ef4ff05039",
   "metadata": {},
   "outputs": [
    {
     "name": "stdout",
     "output_type": "stream",
     "text": [
      "Grade:  A\n"
     ]
    }
   ],
   "source": [
    "# if\n",
    "score = 90\n",
    "grade = ''\n",
    "if score >= 90:  # [>90]\n",
    "  grade = 'A'\n",
    "elif score >= 80:  # score < 90 and score >=80 [80, 90)\n",
    "  grade = 'B'\n",
    "elif score >= 70:  # [70, 80)\n",
    "  grade = 'C'\n",
    "elif score >= 60:  # [60, 70)\n",
    "  grade = 'D'\n",
    "else: # score < 60\n",
    "  grade = 'E'\n",
    "print('Grade: ', grade)"
   ]
  },
  {
   "cell_type": "code",
   "execution_count": 8,
   "id": "ac0a0f4e-fc4b-4eef-a639-c679f77854cd",
   "metadata": {},
   "outputs": [
    {
     "name": "stdout",
     "output_type": "stream",
     "text": [
      "1 2 3 4 5 "
     ]
    }
   ],
   "source": [
    "# loop\n",
    "for i in range(1, 6): # 1<=i<6\n",
    "  print(i, end = ' ')"
   ]
  },
  {
   "cell_type": "code",
   "execution_count": 9,
   "id": "0fab216a-dbd5-4bcf-8626-57b1e5d49c78",
   "metadata": {},
   "outputs": [
    {
     "name": "stdout",
     "output_type": "stream",
     "text": [
      "1 * 1 = 1\n",
      "1 * 2 = 2\n",
      "1 * 3 = 3\n",
      "1 * 4 = 4\n",
      "1 * 5 = 5\n",
      "1 * 6 = 6\n",
      "1 * 7 = 7\n",
      "1 * 8 = 8\n",
      "1 * 9 = 9\n",
      "--------------------------------------------------\n",
      "2 * 1 = 2\n",
      "2 * 2 = 4\n",
      "2 * 3 = 6\n",
      "2 * 4 = 8\n",
      "2 * 5 = 10\n",
      "2 * 6 = 12\n",
      "2 * 7 = 14\n",
      "2 * 8 = 16\n",
      "2 * 9 = 18\n",
      "--------------------------------------------------\n",
      "3 * 1 = 3\n",
      "3 * 2 = 6\n",
      "3 * 3 = 9\n",
      "3 * 4 = 12\n",
      "3 * 5 = 15\n",
      "3 * 6 = 18\n",
      "3 * 7 = 21\n",
      "3 * 8 = 24\n",
      "3 * 9 = 27\n",
      "--------------------------------------------------\n",
      "4 * 1 = 4\n",
      "4 * 2 = 8\n",
      "4 * 3 = 12\n",
      "4 * 4 = 16\n",
      "4 * 5 = 20\n",
      "4 * 6 = 24\n",
      "4 * 7 = 28\n",
      "4 * 8 = 32\n",
      "4 * 9 = 36\n",
      "--------------------------------------------------\n",
      "5 * 1 = 5\n",
      "5 * 2 = 10\n",
      "5 * 3 = 15\n",
      "5 * 4 = 20\n",
      "5 * 5 = 25\n",
      "5 * 6 = 30\n",
      "5 * 7 = 35\n",
      "5 * 8 = 40\n",
      "5 * 9 = 45\n",
      "--------------------------------------------------\n",
      "6 * 1 = 6\n",
      "6 * 2 = 12\n",
      "6 * 3 = 18\n",
      "6 * 4 = 24\n",
      "6 * 5 = 30\n",
      "6 * 6 = 36\n",
      "6 * 7 = 42\n",
      "6 * 8 = 48\n",
      "6 * 9 = 54\n",
      "--------------------------------------------------\n",
      "7 * 1 = 7\n",
      "7 * 2 = 14\n",
      "7 * 3 = 21\n",
      "7 * 4 = 28\n",
      "7 * 5 = 35\n",
      "7 * 6 = 42\n",
      "7 * 7 = 49\n",
      "7 * 8 = 56\n",
      "7 * 9 = 63\n",
      "--------------------------------------------------\n",
      "8 * 1 = 8\n",
      "8 * 2 = 16\n",
      "8 * 3 = 24\n",
      "8 * 4 = 32\n",
      "8 * 5 = 40\n",
      "8 * 6 = 48\n",
      "8 * 7 = 56\n",
      "8 * 8 = 64\n",
      "8 * 9 = 72\n",
      "--------------------------------------------------\n",
      "9 * 1 = 9\n",
      "9 * 2 = 18\n",
      "9 * 3 = 27\n",
      "9 * 4 = 36\n",
      "9 * 5 = 45\n",
      "9 * 6 = 54\n",
      "9 * 7 = 63\n",
      "9 * 8 = 72\n",
      "9 * 9 = 81\n",
      "--------------------------------------------------\n"
     ]
    }
   ],
   "source": [
    "# 2 loop\n",
    "for i in range(1, 10): # i: 1->9\n",
    "    for j in range(1, 10): # j: 1->9\n",
    "       print(f'{i} * {j} = {i*j}')\n",
    "    print('-'*50)"
   ]
  },
  {
   "cell_type": "code",
   "execution_count": 10,
   "id": "e7ec0577-baac-497a-9c6f-3dca86a5ab51",
   "metadata": {},
   "outputs": [
    {
     "name": "stdout",
     "output_type": "stream",
     "text": [
      "10 11 12 13 14 15 16 17 18 19 "
     ]
    }
   ],
   "source": [
    "# while\n",
    "age = 10\n",
    "while age < 20:\n",
    "  print(age, end = \" \")\n",
    "  age = age + 1"
   ]
  },
  {
   "cell_type": "markdown",
   "id": "6e59703f-c17a-4f94-a472-a8bd5da92a4d",
   "metadata": {},
   "source": [
    "# Module & Function"
   ]
  },
  {
   "cell_type": "code",
   "execution_count": 11,
   "id": "13b5e82d-0e71-421c-a8a7-1ebe45555af3",
   "metadata": {},
   "outputs": [
    {
     "name": "stdout",
     "output_type": "stream",
     "text": [
      "Future value =  194.87\n"
     ]
    }
   ],
   "source": [
    "# function\n",
    "def getfv(pv, r, n):\n",
    "  fv = pv * ((1 + r) ** n)\n",
    "  return fv\n",
    "  pass\n",
    "\n",
    "fv = getfv(100, 0.1, 7)\n",
    "print('Future value = ', round(fv, 2))"
   ]
  },
  {
   "cell_type": "code",
   "execution_count": 12,
   "id": "1dffe7a6-4d46-471a-b299-4115b54d45e9",
   "metadata": {},
   "outputs": [
    {
     "name": "stdout",
     "output_type": "stream",
     "text": [
      "5\n"
     ]
    }
   ],
   "source": [
    "# class: properties (variables) + methods (functions)\n",
    "class MyClass:\n",
    "  x = 5\n",
    "\n",
    "c1 = MyClass()\n",
    "print(c1.x)"
   ]
  },
  {
   "cell_type": "code",
   "execution_count": 13,
   "id": "fabaf1e0-0c8b-41c7-a5e6-c03c853b67fa",
   "metadata": {},
   "outputs": [
    {
     "name": "stdout",
     "output_type": "stream",
     "text": [
      "Alan 20\n"
     ]
    }
   ],
   "source": [
    "# class\n",
    "class Person:\n",
    "  def __init__(self, name, age): # constructor (ham tao doi tuong)\n",
    "    self.name = name\n",
    "    self.age = age\n",
    "\n",
    "p1 = Person('Alan', 20)\n",
    "print(p1.name, p1.age)"
   ]
  },
  {
   "cell_type": "code",
   "execution_count": 14,
   "id": "1edd8efa-5d1a-4d70-8308-6af29cc0a78d",
   "metadata": {},
   "outputs": [
    {
     "name": "stdout",
     "output_type": "stream",
     "text": [
      "Alan 20\n",
      "Hello my name is  Alan\n"
     ]
    }
   ],
   "source": [
    "# class\n",
    "class Person:\n",
    "  def __init__(self, name, age): # constructor (ham tao doi tuong)\n",
    "    self.name = name\n",
    "    self.age = age\n",
    "\n",
    "  def myfunc(self):\n",
    "    print('Hello my name is ', self.name)\n",
    "    pass\n",
    "\n",
    "p1 = Person('Alan', 20)\n",
    "print(p1.name, p1.age)\n",
    "p1.myfunc()"
   ]
  },
  {
   "cell_type": "code",
   "execution_count": 15,
   "id": "6427e742-9b67-4313-8ec2-cb22b50cab04",
   "metadata": {},
   "outputs": [
    {
     "name": "stdout",
     "output_type": "stream",
     "text": [
      "Fer is a red convertible worth $60000.00.\n",
      "Jump is a van blue worth $10000.00.\n"
     ]
    }
   ],
   "source": [
    "class Vehicle:\n",
    "  name = \"\"\n",
    "  kind = \"car\"\n",
    "  color = \"\"\n",
    "  value = 100.0\n",
    "\n",
    "  def __init__(self, name=\"\", kind=\"car\", color=\"\", value=100.0):\n",
    "    self.name = name\n",
    "    self.kind = kind\n",
    "    self.color = color\n",
    "    self.value = value\n",
    "    pass\n",
    "\n",
    "  def description(self):\n",
    "    desc_str = f'{self.name} is a {self.color} {self.kind} worth ${self.value:.2f}.'\n",
    "    return desc_str\n",
    "    pass\n",
    "\n",
    "car1 = Vehicle()\n",
    "car1.name = 'Fer'\n",
    "car1.color = 'red'\n",
    "car1.kind = 'convertible'\n",
    "car1.value = 60000.0\n",
    "\n",
    "car2 = Vehicle(\"Jump\", 'blue', 'van', 10000.0)\n",
    "\n",
    "print(car1.description())\n",
    "print(car2.description())"
   ]
  },
  {
   "cell_type": "code",
   "execution_count": 16,
   "id": "7e4bcece-9f20-4490-8393-f250ea32e555",
   "metadata": {},
   "outputs": [
    {
     "name": "stdout",
     "output_type": "stream",
     "text": [
      "Writing mymodule.py\n"
     ]
    }
   ],
   "source": [
    "%%writefile mymodule.py\n",
    "def greeting(name):\n",
    "  print(\"Hello, \", name)\n",
    "\n",
    "def greeting_vn(name):\n",
    "  print(\"Xin Chao, \", name)"
   ]
  },
  {
   "cell_type": "code",
   "execution_count": 17,
   "id": "d9927b56-44c6-46c5-ba37-f3d883680926",
   "metadata": {},
   "outputs": [
    {
     "name": "stdout",
     "output_type": "stream",
     "text": [
      "def greeting(name):\n",
      "  print(\"Hello, \", name)\n",
      "\n",
      "def greeting_vn(name):\n",
      "  print(\"Xin Chao, \", name)\n"
     ]
    }
   ],
   "source": [
    "!cat mymodule.py"
   ]
  },
  {
   "cell_type": "code",
   "execution_count": 18,
   "id": "103f9542-2cdf-450c-badf-b38a43d9dda1",
   "metadata": {},
   "outputs": [
    {
     "name": "stdout",
     "output_type": "stream",
     "text": [
      "Hello,  Alan\n",
      "Xin Chao,  Alan\n"
     ]
    }
   ],
   "source": [
    "import mymodule as m1\n",
    "import importlib\n",
    "importlib.reload(m1)\n",
    "m1.greeting('Alan')\n",
    "m1.greeting_vn('Alan')"
   ]
  },
  {
   "cell_type": "markdown",
   "id": "02b311cc-d6d2-46a4-8444-2da98aedc8e3",
   "metadata": {},
   "source": [
    "# Read/Write File"
   ]
  },
  {
   "cell_type": "code",
   "execution_count": 19,
   "id": "ef483702-0979-4818-a611-43143b1e861b",
   "metadata": {},
   "outputs": [
    {
     "name": "stdout",
     "output_type": "stream",
     "text": [
      "Hello, World\n",
      "This is demo input/output"
     ]
    }
   ],
   "source": [
    "with open('a.txt', 'w') as file:\n",
    "  file.write('Hello, World\\nThis is demo input/output')\n",
    "\n",
    "!cat a.txt"
   ]
  },
  {
   "cell_type": "code",
   "execution_count": 20,
   "id": "fb7410b7-e85f-4e58-b8e4-a70c4f018b63",
   "metadata": {},
   "outputs": [
    {
     "name": "stdout",
     "output_type": "stream",
     "text": [
      "['Hello, World\\n', 'This is demo input/output']\n"
     ]
    }
   ],
   "source": [
    "with open('a.txt', 'r') as file:\n",
    "  print(file.readlines())"
   ]
  },
  {
   "cell_type": "code",
   "execution_count": 21,
   "id": "9132540b-96e1-48f4-8f8f-d5d66415909a",
   "metadata": {},
   "outputs": [
    {
     "name": "stdout",
     "output_type": "stream",
     "text": [
      "Writing demo.py\n"
     ]
    }
   ],
   "source": [
    "%%writefile demo.py\n",
    "def main():\n",
    "  print('Hello, World!')\n",
    "\n",
    "print(__name__)\n",
    "\n",
    "if __name__ == \"__main__\":\n",
    "  main()"
   ]
  },
  {
   "cell_type": "code",
   "execution_count": 22,
   "id": "8854530a-e516-4a16-a41e-bf661da2b5f4",
   "metadata": {},
   "outputs": [
    {
     "name": "stdout",
     "output_type": "stream",
     "text": [
      "__main__\n",
      "Hello, World!\n"
     ]
    }
   ],
   "source": [
    "%run demo.py"
   ]
  },
  {
   "cell_type": "code",
   "execution_count": 23,
   "id": "66b88515-25ad-4049-9277-d5195ed70e6a",
   "metadata": {},
   "outputs": [
    {
     "name": "stdout",
     "output_type": "stream",
     "text": [
      "demo\n"
     ]
    }
   ],
   "source": [
    "import demo"
   ]
  },
  {
   "cell_type": "markdown",
   "id": "34ebc565-a2d8-481c-93e2-dfd5534b5ccd",
   "metadata": {},
   "source": [
    "# Try, Except & File Handling"
   ]
  },
  {
   "cell_type": "code",
   "execution_count": 24,
   "id": "9f623629-5f87-4386-b4a6-6aba20eba354",
   "metadata": {},
   "outputs": [
    {
     "name": "stdout",
     "output_type": "stream",
     "text": [
      "File Error\n",
      "Final\n"
     ]
    }
   ],
   "source": [
    "try:\n",
    "  f = open('aa.txt')\n",
    "  f.close()\n",
    "except: # neu loi\n",
    "  print('File Error')\n",
    "  pass\n",
    "finally: # khong loi + loi deu xuong\n",
    "  print('Final')"
   ]
  },
  {
   "cell_type": "code",
   "execution_count": null,
   "id": "936ab3e0-1bb2-478c-a980-7c4ad9d87729",
   "metadata": {},
   "outputs": [],
   "source": []
  }
 ],
 "metadata": {
  "kernelspec": {
   "display_name": "Python 3 (ipykernel)",
   "language": "python",
   "name": "python3"
  },
  "language_info": {
   "codemirror_mode": {
    "name": "ipython",
    "version": 3
   },
   "file_extension": ".py",
   "mimetype": "text/x-python",
   "name": "python",
   "nbconvert_exporter": "python",
   "pygments_lexer": "ipython3",
   "version": "3.12.1"
  }
 },
 "nbformat": 4,
 "nbformat_minor": 5
}
