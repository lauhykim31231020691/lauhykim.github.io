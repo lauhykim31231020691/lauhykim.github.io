{
 "cells": [
  {
   "cell_type": "markdown",
   "id": "831058bc-8565-49a5-9e29-3c338245ad1b",
   "metadata": {},
   "source": [
    "# Buổi 03: Phân tích dữ liệu với Python"
   ]
  },
  {
   "cell_type": "code",
   "execution_count": 8,
   "id": "cfc0eed0-9776-4d36-8bfa-8b725b0a70a9",
   "metadata": {},
   "outputs": [
    {
     "name": "stdout",
     "output_type": "stream",
     "text": [
      "ls: cannot access 'pydata-book': No such file or directory\n"
     ]
    }
   ],
   "source": [
    "# !rm -r pydata-book\n",
    "# !git clone https://github.com/wesm/pydata-book\n",
    "!ls pydata-book\n",
    "# !sudo rm -r pydata-book/.git"
   ]
  },
  {
   "cell_type": "code",
   "execution_count": 1,
   "id": "21910b2b-142e-40ed-a5dd-267b11bf70ed",
   "metadata": {},
   "outputs": [],
   "source": [
    "# !git status\n",
    "# !git add . -n\n",
    "# !git add .\n",
    "# !git commit -m \"buoi03\"\n",
    "# !git push\n",
    "# !git status\n",
    "# !git push --force # ép phải commit (nếu xảy ra xung đột)\n",
    "# !git reset HEAD~  # phục hồi lại trạng thái commit gần nhất\n",
    "\n",
    "# !git add .\n",
    "# !git commit -m \"buoi03\"\n",
    "# !git push"
   ]
  },
  {
   "cell_type": "code",
   "execution_count": null,
   "id": "eb404187-bf21-40e8-9d84-367be98cd3fe",
   "metadata": {},
   "outputs": [],
   "source": []
  }
 ],
 "metadata": {
  "kernelspec": {
   "display_name": "Python 3 (ipykernel)",
   "language": "python",
   "name": "python3"
  },
  "language_info": {
   "codemirror_mode": {
    "name": "ipython",
    "version": 3
   },
   "file_extension": ".py",
   "mimetype": "text/x-python",
   "name": "python",
   "nbconvert_exporter": "python",
   "pygments_lexer": "ipython3",
   "version": "3.12.1"
  }
 },
 "nbformat": 4,
 "nbformat_minor": 5
}
