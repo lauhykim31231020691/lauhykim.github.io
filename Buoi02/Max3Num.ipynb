{
 "cells": [
  {
   "cell_type": "code",
   "execution_count": 1,
   "id": "99866bdd-05eb-4fd9-a11c-75ebcbac7091",
   "metadata": {},
   "outputs": [
    {
     "name": "stdin",
     "output_type": "stream",
     "text": [
      " 1\n",
      " 2\n",
      " 3\n"
     ]
    },
    {
     "name": "stdout",
     "output_type": "stream",
     "text": [
      "Max(1, 2, 3) = 3\n"
     ]
    }
   ],
   "source": [
    "# Input a, b, c\n",
    "a = int(input())\n",
    "b = int(input())\n",
    "c = int(input())\n",
    "\n",
    "# max a, b, c\n",
    "def max_fn(a, b):\n",
    "    return a if a > b else b\n",
    "    pass # max_fn\n",
    "\n",
    "vmax = max_fn(a, b)\n",
    "vmax = max_fn(vmax, c)\n",
    "\n",
    "# output\n",
    "print(\"Max(%d, %d, %d) = %d\"%(a, b, c, vmax))"
   ]
  },
  {
   "cell_type": "code",
   "execution_count": null,
   "id": "d5b95a9a-2293-439c-bb90-23b65602e92b",
   "metadata": {},
   "outputs": [],
   "source": []
  }
 ],
 "metadata": {
  "kernelspec": {
   "display_name": "Python 3 (ipykernel)",
   "language": "python",
   "name": "python3"
  },
  "language_info": {
   "codemirror_mode": {
    "name": "ipython",
    "version": 3
   },
   "file_extension": ".py",
   "mimetype": "text/x-python",
   "name": "python",
   "nbconvert_exporter": "python",
   "pygments_lexer": "ipython3",
   "version": "3.12.1"
  }
 },
 "nbformat": 4,
 "nbformat_minor": 5
}
